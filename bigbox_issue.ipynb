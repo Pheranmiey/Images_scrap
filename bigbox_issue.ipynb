{
 "cells": [
  {
   "cell_type": "code",
   "execution_count": 1,
   "id": "5c023426-565b-42ea-8601-2782049d492c",
   "metadata": {},
   "outputs": [],
   "source": [
    "import requests\n",
    "from bs4 import BeautifulSoup as bs\n",
    "from urllib.request import urlopen\n",
    "import logging"
   ]
  },
  {
   "cell_type": "code",
   "execution_count": 2,
   "id": "7c6366a9-b068-4ab1-9698-e9d6e8eb2e33",
   "metadata": {},
   "outputs": [],
   "source": [
    "headers = {\"User-Agent\": \"Mozilla/5.0 (Windows NT 10.0; Win64; x64) AppleWebKit/537.36 (KHTML, like Gecko) Chrome/58.0.3029.110 Safari/537.36\"}"
   ]
  },
  {
   "cell_type": "code",
   "execution_count": 3,
   "id": "cb78fd8d-b28c-4e1c-a17f-91447b20d547",
   "metadata": {},
   "outputs": [],
   "source": [
    "youtube_url = \"https://www.youtube.com/results?search_query=\" + \"pw-foundation\""
   ]
  },
  {
   "cell_type": "code",
   "execution_count": 4,
   "id": "d3d6071f-708a-4a5f-bd0f-1322cd6b7957",
   "metadata": {},
   "outputs": [
    {
     "data": {
      "text/plain": [
       "'https://www.youtube.com/results?search_query=pw-foundation'"
      ]
     },
     "execution_count": 4,
     "metadata": {},
     "output_type": "execute_result"
    }
   ],
   "source": [
    "youtube_url"
   ]
  },
  {
   "cell_type": "code",
   "execution_count": 5,
   "id": "ad12ddf7-836c-4f88-aa82-45e348263f62",
   "metadata": {},
   "outputs": [],
   "source": [
    "urlclient = urlopen(youtube_url)"
   ]
  },
  {
   "cell_type": "code",
   "execution_count": 6,
   "id": "93853f00-d537-4fcf-9a79-9c85ce2f42c9",
   "metadata": {},
   "outputs": [],
   "source": [
    "youtube_page = urlclient.read()"
   ]
  },
  {
   "cell_type": "code",
   "execution_count": 7,
   "id": "0f9dd00f-8362-4c62-a084-515f6b3a3472",
   "metadata": {},
   "outputs": [],
   "source": [
    "youtube_html = bs(youtube_page , 'html.parser')"
   ]
  },
  {
   "cell_type": "code",
   "execution_count": 12,
   "id": "54c514b6-11ef-4387-8e8a-0d25e6935138",
   "metadata": {},
   "outputs": [],
   "source": [
    "bigbox = youtube_html.find_all(\"div\", {\"class\":\"style-scope ytd-vertical-list-renderer\"})"
   ]
  },
  {
   "cell_type": "code",
   "execution_count": 14,
   "id": "c231498f-ea5b-4127-abab-7e2c0330ece0",
   "metadata": {},
   "outputs": [
    {
     "data": {
      "text/plain": [
       "0"
      ]
     },
     "execution_count": 14,
     "metadata": {},
     "output_type": "execute_result"
    }
   ],
   "source": [
    "len(bigbox)"
   ]
  }
 ],
 "metadata": {
  "kernelspec": {
   "display_name": "Python 3 (ipykernel)",
   "language": "python",
   "name": "python3"
  },
  "language_info": {
   "codemirror_mode": {
    "name": "ipython",
    "version": 3
   },
   "file_extension": ".py",
   "mimetype": "text/x-python",
   "name": "python",
   "nbconvert_exporter": "python",
   "pygments_lexer": "ipython3",
   "version": "3.10.8"
  }
 },
 "nbformat": 4,
 "nbformat_minor": 5
}
